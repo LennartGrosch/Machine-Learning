{
 "cells": [
  {
   "cell_type": "markdown",
   "metadata": {},
   "source": [
    "# Exercises\n",
    "\n",
    "There are three exercises in this notebook:\n",
    "\n",
    "1. Use the cross-validation method to test the linear regression with different $\\alpha$ values, at least three.\n",
    "2. Implement a SGD method that will train the Lasso regression for 10 epochs.\n",
    "3. Extend the Fisher's classifier to work with two features. Use the class as the $y$."
   ]
  },
  {
   "cell_type": "markdown",
   "metadata": {},
   "source": [
    "## 1. Cross-validation linear regression\n",
    "\n",
    "You need to change the variable ``alpha`` to be a list of alphas. Next do a loop and finally compare the results."
   ]
  },
  {
   "cell_type": "code",
   "execution_count": 2,
   "metadata": {},
   "outputs": [],
   "source": [
    "import numpy as np"
   ]
  },
  {
   "cell_type": "code",
   "execution_count": null,
   "metadata": {},
   "outputs": [
    {
     "name": "stdout",
     "output_type": "stream",
     "text": [
      "[matrix([[-101.72397081,    1.16978757]])\n",
      " matrix([[-20.59044706,   0.71048616]])\n",
      " matrix([[-2.29106262,  0.60688107]])]\n"
     ]
    }
   ],
   "source": [
    "x = np.array([188, 181, 197, 168, 167, 187, 178, 194, 140, 176, 168, 192, 173, 142, 176]).reshape(-1, 1).reshape(15,1)\n",
    "y = np.array([141, 106, 149, 59, 79, 136, 65, 136, 52, 87, 115, 140, 82, 69, 121]).reshape(-1, 1).reshape(15,1)\n",
    "\n",
    "x = np.asmatrix(np.c_[np.ones((15,1)),x])\n",
    "\n",
    "I = np.identity(2)\n",
    "alpha_array = [0.1,1,10] # change here\n",
    "\n",
    "# add 1-3 line of code here\n",
    "results=np.empty(len(alpha_array), dtype=object)\n",
    "for i,alpha in enumerate(alpha_array):\n",
    "    w = np.linalg.inv(x.T*x + alpha * I)*x.T*y\n",
    "    w=w.ravel()\n",
    "    results[i]=w\n",
    "\n",
    "print(results)\n"
   ]
  },
  {
   "cell_type": "markdown",
   "metadata": {},
   "source": [
    "## 2. Implement based on the Ridge regression example, the Lasso regression.\n",
    "\n",
    "Please implement the SGD method and compare the results with the sklearn Lasso regression results. "
   ]
  },
  {
   "cell_type": "code",
   "execution_count": 11,
   "metadata": {},
   "outputs": [],
   "source": [
    "def sgd(x, y, it_depth, r, alpha):\n",
    "    x_num, d = x.shape  # Use x.shape without parentheses\n",
    "    w = np.zeros(d)  # Initialize weights\n",
    "    for j in range(it_depth):\n",
    "        for i in range(x_num):\n",
    "            w -= r * (-2 * x[i] * (y[i] - x[i].dot(w)) + alpha * np.sign(w))\n",
    "    return w"
   ]
  },
  {
   "cell_type": "code",
   "execution_count": null,
   "metadata": {},
   "outputs": [
    {
     "name": "stdout",
     "output_type": "stream",
     "text": [
      "[-0.00140505  0.59178569]\n"
     ]
    }
   ],
   "source": [
    "x = np.array([188, 181, 197, 168, 167, 187, 178, 194, 140, 176, 168, 192, 173, 142, 176]).reshape(-1, 1).reshape(15,1)\n",
    "y = np.array([141, 106, 149, 59, 79, 136, 65, 136, 52, 87, 115, 140, 82, 69, 121]).reshape(-1, 1).reshape(15,1)\n",
    "\n",
    "x = np.c_[np.ones((15, 1)), x] \n",
    "y = y.ravel()\n",
    "\n",
    "I = np.identity(2)\n",
    "alpha = 0.1 \n",
    "print(sgd(x,y,100,0.000001,alpha))\n",
    "\n",
    "#w = np.linalg.inv(x.T*x + alpha * I)*x.T*y # I not sure what to do?\n",
    "#w=w.ravel()\n"
   ]
  },
  {
   "cell_type": "markdown",
   "metadata": {},
   "source": [
    "## 3. Extend the Fisher's classifier\n",
    "\n",
    "Please extend the targets of the ``iris_data`` variable and use it as the $y$."
   ]
  },
  {
   "cell_type": "code",
   "execution_count": null,
   "metadata": {},
   "outputs": [
    {
     "name": "stdout",
     "output_type": "stream",
     "text": [
      "[[-1.34333979 -0.63781099  0.73474169]]\n",
      "Coefficients: a1=-0.6378109916553719, a2=0.7347416880973524, Intercept: b=-1.343339792294505\n"
     ]
    }
   ],
   "source": [
    "import pandas as pd\n",
    "import numpy as np\n",
    "import matplotlib.pyplot as plt\n",
    "from sklearn.datasets import load_iris\n",
    "\n",
    "iris_data = load_iris()\n",
    "iris_df = pd.DataFrame(iris_data.data,columns=iris_data.feature_names)\n",
    "iris_df.head()\n",
    "\n",
    "x1 = iris_df['sepal width (cm)'].values # change here\n",
    "x2 = iris_df['sepal length (cm)'].values # change\n",
    "y = iris_data.target\n",
    "\n",
    "#Now there are two ways\n",
    "#First: doing matrix multiplications with the weight formula\n",
    "x = np.asmatrix(np.c_[np.ones((len(x1),1)),x1,x2])\n",
    "w = np.linalg.inv(x.T @ x) @ x.T @ y\n",
    "print(w)\n",
    "\n",
    "\n",
    "#Second: calculating means\n",
    "dataset_size = np.size(x1)\n",
    "\n",
    "mean_x1, mean_x2, mean_y = np.mean(x1), np.mean(x2), np.mean(y)\n",
    "\n",
    "SS_x1y = np.sum(y * x1) - dataset_size * mean_y * mean_x1\n",
    "SS_x2y = np.sum(y * x2) - dataset_size * mean_y * mean_x2\n",
    "\n",
    "SS_x1x1 = np.sum(x1 * x1) - dataset_size * mean_x1 * mean_x1\n",
    "SS_x2x2 = np.sum(x2 * x2) - dataset_size * mean_x2 * mean_x2\n",
    "SS_x1x2 = np.sum(x1 * x2) - dataset_size * mean_x1 * mean_x2\n",
    "\n",
    "# Solve for coefficients using matrix algebra\n",
    "denominator = SS_x1x1 * SS_x2x2 - SS_x1x2 ** 2\n",
    "a1 = (SS_x2x2 * SS_x1y - SS_x1x2 * SS_x2y) / denominator\n",
    "a2 = (SS_x1x1 * SS_x2y - SS_x1x2 * SS_x1y) / denominator\n",
    "b = mean_y - a1 * mean_x1 - a2 * mean_x2\n",
    "\n",
    "# Predicted values\n",
    "y_pred = a1 * x1 + a2 * x2 + b\n",
    "print(f\"Coefficients: a1={a1}, a2={a2}, Intercept: b={b}\")"
   ]
  }
 ],
 "metadata": {
  "kernelspec": {
   "display_name": "Python 3",
   "language": "python",
   "name": "python3"
  },
  "language_info": {
   "codemirror_mode": {
    "name": "ipython",
    "version": 3
   },
   "file_extension": ".py",
   "mimetype": "text/x-python",
   "name": "python",
   "nbconvert_exporter": "python",
   "pygments_lexer": "ipython3",
   "version": "3.10.11"
  }
 },
 "nbformat": 4,
 "nbformat_minor": 4
}
